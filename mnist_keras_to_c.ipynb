{
 "cells": [
  {
   "cell_type": "markdown",
   "metadata": {},
   "source": [
    "# Mostly Hand-Translated Simple Keras Model to C Language"
   ]
  },
  {
   "cell_type": "markdown",
   "metadata": {},
   "source": [
    "````\n",
    "BSD 2-Clause License\n",
    "\n",
    "Copyright (c) 2019, Atsushi Yokoyama, Firmlogics (yokoyama@flogics.com)\n",
    "All rights reserved.\n",
    "\n",
    "Redistribution and use in source and binary forms, with or without\n",
    "modification, are permitted provided that the following conditions are met:\n",
    "\n",
    "1. Redistributions of source code must retain the above copyright notice, this\n",
    "   list of conditions and the following disclaimer.\n",
    "\n",
    "2. Redistributions in binary form must reproduce the above copyright notice,\n",
    "   this list of conditions and the following disclaimer in the documentation\n",
    "   and/or other materials provided with the distribution.\n",
    "\n",
    "THIS SOFTWARE IS PROVIDED BY THE COPYRIGHT HOLDERS AND CONTRIBUTORS \"AS IS\"\n",
    "AND ANY EXPRESS OR IMPLIED WARRANTIES, INCLUDING, BUT NOT LIMITED TO, THE\n",
    "IMPLIED WARRANTIES OF MERCHANTABILITY AND FITNESS FOR A PARTICULAR PURPOSE ARE\n",
    "DISCLAIMED. IN NO EVENT SHALL THE COPYRIGHT HOLDER OR CONTRIBUTORS BE LIABLE\n",
    "FOR ANY DIRECT, INDIRECT, INCIDENTAL, SPECIAL, EXEMPLARY, OR CONSEQUENTIAL\n",
    "DAMAGES (INCLUDING, BUT NOT LIMITED TO, PROCUREMENT OF SUBSTITUTE GOODS OR\n",
    "SERVICES; LOSS OF USE, DATA, OR PROFITS; OR BUSINESS INTERRUPTION) HOWEVER\n",
    "CAUSED AND ON ANY THEORY OF LIABILITY, WHETHER IN CONTRACT, STRICT LIABILITY,\n",
    "OR TORT (INCLUDING NEGLIGENCE OR OTHERWISE) ARISING IN ANY WAY OUT OF THE USE\n",
    "OF THIS SOFTWARE, EVEN IF ADVISED OF THE POSSIBILITY OF SUCH DAMAGE.\n",
    "````"
   ]
  },
  {
   "cell_type": "markdown",
   "metadata": {},
   "source": [
    "# Give Random Seed to Get the Same Results Always\n",
    "\n",
    "https://keras.io/getting-started/faq/"
   ]
  },
  {
   "cell_type": "code",
   "execution_count": 1,
   "metadata": {},
   "outputs": [
    {
     "name": "stdout",
     "output_type": "stream",
     "text": [
      "env: PYTHONHASHSEED=0\n"
     ]
    },
    {
     "name": "stderr",
     "output_type": "stream",
     "text": [
      "/usr/local/Cellar/python/3.7.3/Frameworks/Python.framework/Versions/3.7/lib/python3.7/importlib/_bootstrap.py:219: RuntimeWarning: compiletime version 3.6 of module 'tensorflow.python.framework.fast_tensor_util' does not match runtime version 3.7\n",
      "  return f(*args, **kwds)\n",
      "Using TensorFlow backend.\n"
     ]
    }
   ],
   "source": [
    "%env PYTHONHASHSEED=0\n",
    "\n",
    "import numpy as np\n",
    "import tensorflow as tf\n",
    "import random as rn\n",
    "\n",
    "# The below is necessary for starting Numpy generated random numbers\n",
    "# in a well-defined initial state.\n",
    "\n",
    "np.random.seed(1)\n",
    "\n",
    "# The below is necessary for starting core Python generated random numbers\n",
    "# in a well-defined state.\n",
    "\n",
    "rn.seed(2)\n",
    "\n",
    "# Force TensorFlow to use single thread.\n",
    "# Multiple threads are a potential source of non-reproducible results.\n",
    "# For further details, see: https://stackoverflow.com/questions/42022950/\n",
    "\n",
    "session_conf = tf.ConfigProto(intra_op_parallelism_threads=1,\n",
    "                              inter_op_parallelism_threads=1)\n",
    "\n",
    "from keras import backend as K\n",
    "\n",
    "# The below tf.set_random_seed() will make random number generation\n",
    "# in the TensorFlow backend have a well-defined initial state.\n",
    "# For further details, see:\n",
    "# https://www.tensorflow.org/api_docs/python/tf/set_random_seed\n",
    "\n",
    "tf.set_random_seed(3)\n",
    "\n",
    "sess = tf.Session(graph=tf.get_default_graph(), config=session_conf)\n",
    "K.set_session(sess)"
   ]
  },
  {
   "cell_type": "markdown",
   "metadata": {},
   "source": [
    "# Define Constants"
   ]
  },
  {
   "cell_type": "code",
   "execution_count": 2,
   "metadata": {},
   "outputs": [],
   "source": [
    "C_SRC_DIR = \"c_project/src\""
   ]
  },
  {
   "cell_type": "markdown",
   "metadata": {},
   "source": [
    "# Import Keras and Check Version"
   ]
  },
  {
   "cell_type": "code",
   "execution_count": 3,
   "metadata": {},
   "outputs": [
    {
     "name": "stdout",
     "output_type": "stream",
     "text": [
      "2.2.4\n"
     ]
    }
   ],
   "source": [
    "import keras\n",
    "\n",
    "print(keras.__version__)"
   ]
  },
  {
   "cell_type": "markdown",
   "metadata": {},
   "source": [
    "# Load Dataset"
   ]
  },
  {
   "cell_type": "code",
   "execution_count": 4,
   "metadata": {},
   "outputs": [
    {
     "name": "stdout",
     "output_type": "stream",
     "text": [
      "(60000, 28, 28)\n"
     ]
    }
   ],
   "source": [
    "mnist = keras.datasets.mnist\n",
    "(train_images_origin, train_labels), (test_images_origin, test_labels) = mnist.load_data()\n",
    "\n",
    "print(train_images_origin.shape)"
   ]
  },
  {
   "cell_type": "markdown",
   "metadata": {},
   "source": [
    "# Examine a Training Sample"
   ]
  },
  {
   "cell_type": "code",
   "execution_count": 5,
   "metadata": {},
   "outputs": [
    {
     "data": {
      "image/png": "[encoded data removed]",
      "text/plain": [
       "<Figure size 432x288 with 1 Axes>"
      ]
     },
     "metadata": {
      "needs_background": "light"
     },
     "output_type": "display_data"
    }
   ],
   "source": [
    "import matplotlib.pyplot as plt\n",
    "%matplotlib inline\n",
    "\n",
    "plt.figure()\n",
    "plt.imshow(train_images_origin[0])\n",
    "plt.grid(False)\n",
    "plt.show()"
   ]
  },
  {
   "cell_type": "markdown",
   "metadata": {},
   "source": [
    "# Normalize Range Sample Values"
   ]
  },
  {
   "cell_type": "code",
   "execution_count": 6,
   "metadata": {},
   "outputs": [],
   "source": [
    "train_images = train_images_origin / 255.0\n",
    "test_images = test_images_origin / 255.0"
   ]
  },
  {
   "cell_type": "markdown",
   "metadata": {},
   "source": [
    "# Build the Model"
   ]
  },
  {
   "cell_type": "code",
   "execution_count": 7,
   "metadata": {},
   "outputs": [],
   "source": [
    "from keras.layers import Flatten, Dense, Activation\n",
    "\n",
    "model = keras.models.Sequential([\n",
    "    Flatten(input_shape=(28, 28)),\n",
    "    Dense(128),\n",
    "    Activation('relu'),\n",
    "    Dense(10),\n",
    "    Activation('softmax')\n",
    "])"
   ]
  },
  {
   "cell_type": "markdown",
   "metadata": {},
   "source": [
    "# Compile the Model"
   ]
  },
  {
   "cell_type": "code",
   "execution_count": 8,
   "metadata": {},
   "outputs": [],
   "source": [
    "model.compile(optimizer='adam',\n",
    "              loss='sparse_categorical_crossentropy',\n",
    "              metrics=['accuracy'])"
   ]
  },
  {
   "cell_type": "markdown",
   "metadata": {},
   "source": [
    "# Train the Model"
   ]
  },
  {
   "cell_type": "code",
   "execution_count": 9,
   "metadata": {
    "scrolled": true
   },
   "outputs": [
    {
     "name": "stdout",
     "output_type": "stream",
     "text": [
      "Epoch 1/5\n",
      "60000/60000 [==============================] - 3s 54us/step - loss: 0.2639 - acc: 0.9239\n",
      "Epoch 2/5\n",
      "60000/60000 [==============================] - 3s 51us/step - loss: 0.1137 - acc: 0.9663\n",
      "Epoch 3/5\n",
      "60000/60000 [==============================] - 3s 51us/step - loss: 0.0783 - acc: 0.9762\n",
      "Epoch 4/5\n",
      "60000/60000 [==============================] - 3s 53us/step - loss: 0.0587 - acc: 0.9823\n",
      "Epoch 5/5\n",
      "60000/60000 [==============================] - 3s 52us/step - loss: 0.0460 - acc: 0.9858\n"
     ]
    },
    {
     "data": {
      "text/plain": [
       "<keras.callbacks.History at 0x1364a0668>"
      ]
     },
     "execution_count": 9,
     "metadata": {},
     "output_type": "execute_result"
    }
   ],
   "source": [
    "model.fit(train_images, train_labels, epochs=5)"
   ]
  },
  {
   "cell_type": "markdown",
   "metadata": {},
   "source": [
    "# Save the Model"
   ]
  },
  {
   "cell_type": "code",
   "execution_count": 10,
   "metadata": {},
   "outputs": [],
   "source": [
    "model.save('mnist.h5')"
   ]
  },
  {
   "cell_type": "markdown",
   "metadata": {},
   "source": [
    "# Or, Load the Model"
   ]
  },
  {
   "cell_type": "code",
   "execution_count": 11,
   "metadata": {},
   "outputs": [],
   "source": [
    "# from keras.models import load_model\n",
    "# model = load_model('mnist.h5')"
   ]
  },
  {
   "cell_type": "markdown",
   "metadata": {},
   "source": [
    "# Evaluate accuracy"
   ]
  },
  {
   "cell_type": "code",
   "execution_count": 12,
   "metadata": {},
   "outputs": [
    {
     "name": "stdout",
     "output_type": "stream",
     "text": [
      "10000/10000 [==============================] - 0s 19us/step\n",
      "Test accuracy: 0.9763\n"
     ]
    }
   ],
   "source": [
    "test_loss, test_acc = model.evaluate(test_images, test_labels)\n",
    "print('Test accuracy:', test_acc)"
   ]
  },
  {
   "cell_type": "markdown",
   "metadata": {},
   "source": [
    "# Understand the Model Structure"
   ]
  },
  {
   "cell_type": "code",
   "execution_count": 13,
   "metadata": {},
   "outputs": [
    {
     "name": "stdout",
     "output_type": "stream",
     "text": [
      "_________________________________________________________________\n",
      "Layer (type)                 Output Shape              Param #   \n",
      "=================================================================\n",
      "flatten_1 (Flatten)          (None, 784)               0         \n",
      "_________________________________________________________________\n",
      "dense_1 (Dense)              (None, 128)               100480    \n",
      "_________________________________________________________________\n",
      "activation_1 (Activation)    (None, 128)               0         \n",
      "_________________________________________________________________\n",
      "dense_2 (Dense)              (None, 10)                1290      \n",
      "_________________________________________________________________\n",
      "activation_2 (Activation)    (None, 10)                0         \n",
      "=================================================================\n",
      "Total params: 101,770\n",
      "Trainable params: 101,770\n",
      "Non-trainable params: 0\n",
      "_________________________________________________________________\n",
      "None\n"
     ]
    }
   ],
   "source": [
    "print(model.summary())"
   ]
  },
  {
   "cell_type": "markdown",
   "metadata": {},
   "source": [
    "# Convert Input Vectors to C Style"
   ]
  },
  {
   "cell_type": "code",
   "execution_count": 14,
   "metadata": {},
   "outputs": [],
   "source": [
    "N_SAMPLES = 20\n",
    "WIDTH = 28\n",
    "HEIGHT = 28\n",
    "\n",
    "with open(C_SRC_DIR + \"/test_images.c\", \"w\") as f:\n",
    "    f.write('#include \"mnist.h\"\\n')\n",
    "    f.write('#include \"test_images.h\"\\n\\n')\n",
    "    f.write(\"const uint8_t TEST_IMAGES[{}][HEIGHT][WIDTH] = {{\\n\".format(N_SAMPLES))\n",
    "            \n",
    "    for i in range(N_SAMPLES):\n",
    "        f.write(\"// Input #%d\\n\" % i)\n",
    "        f.write(\"{\\n\")\n",
    "        for y in range(HEIGHT):\n",
    "            f.write(\"    {\")\n",
    "            for x in range(WIDTH):\n",
    "                f.write(\" %3d\" % test_images_origin[i][y, x])\n",
    "                if x < WIDTH - 1:\n",
    "                    f.write(\",\")\n",
    "                else:\n",
    "                    f.write(\" }\")\n",
    "            if y < HEIGHT - 1:\n",
    "                f.write(\",\\n\")\n",
    "            else:\n",
    "                f.write(\"\\n\")\n",
    "        f.write(\"}\")\n",
    "        if i < N_SAMPLES - 1:\n",
    "            f.write(\",\\n\\n\")\n",
    "            \n",
    "    f.write(\"};\\n\")\n",
    "\n",
    "with open(C_SRC_DIR + \"/test_images.h\", \"w\") as f:\n",
    "    f.write(\"\"\"#ifndef __TEST_IMAGES_H__\n",
    "\n",
    "const uint8_t TEST_IMAGES[{}][HEIGHT][WIDTH];\n",
    "\n",
    "#define __TEST_IMAGES_H__\n",
    "#endif\"\"\".format(N_SAMPLES))\n",
    "\n",
    "with open(C_SRC_DIR + \"/test_labels.h\", \"w\") as f:\n",
    "    f.write(\"\"\"#ifndef __TEST_LABELS_H__\n",
    "\n",
    "const int TEST_LABELS[{}];\n",
    "\n",
    "#define __TEST_LABELS_H__\n",
    "#endif\"\"\".format(N_SAMPLES))\n",
    "\n",
    "with open(C_SRC_DIR + \"/test_labels.c\", \"w\") as f:\n",
    "    f.write('#include \"mnist.h\"\\n')\n",
    "    f.write('#include \"test_labels.h\"\\n\\n')\n",
    "    f.write(\"const int TEST_LABELS[{}] = {{\\n   \".format(N_SAMPLES))\n",
    "    for i in range(N_SAMPLES):\n",
    "        f.write(\" %1d\" % test_labels[i])\n",
    "        if i < N_SAMPLES - 1:\n",
    "            f.write(\",\")\n",
    "    f.write(\"\\n};\\n\")"
   ]
  },
  {
   "cell_type": "markdown",
   "metadata": {},
   "source": [
    "# Convert Trained Parameters to C Style"
   ]
  },
  {
   "cell_type": "code",
   "execution_count": 15,
   "metadata": {},
   "outputs": [],
   "source": [
    "from keras.models import load_model\n",
    "\n",
    "def write_one_array(model_filename, output_filename, var_name, np_array):\n",
    "    len_array = np_array.shape[0]\n",
    "\n",
    "    with open(output_filename, 'a') as f:\n",
    "        f.write(\"float const {}[{:d}] = {{\\n\".format(var_name.upper(), len_array))\n",
    "        for i in range(len_array - 1):\n",
    "            f.write(\"    {:.6e},\\n\".format(np_array[i]))\n",
    "        f.write(\"    {:.6e}\\n\".format(np_array[len_array - 1]))\n",
    "        f.write(\"};\\n\\n\")\n",
    "\n",
    "def generate_params_file(model_filename, output_filename, layer_names):\n",
    "    model = load_model(model_filename)\n",
    "    ifdef_filename = \"__\" + output_filename.upper(). \\\n",
    "        replace('.', '_'). \\\n",
    "        replace('/', '_') + \"__\"\n",
    "\n",
    "    with open(output_filename, 'w') as f:\n",
    "        f.write(\"#ifndef {}\\n\\n\".format(ifdef_filename))\n",
    "        f.write(\"// {}\\n\\n\".format(model_filename))\n",
    "    \n",
    "    for layer_name in layer_names:\n",
    "        layer = model.get_layer(layer_name)\n",
    "        weight = layer.get_weights()[0].flatten()\n",
    "        bias = layer.get_weights()[1].flatten()\n",
    "        write_one_array(model_filename, output_filename, layer_name + \"_WEIGHT\", weight)\n",
    "        write_one_array(model_filename, output_filename, layer_name + \"_BIAS\", bias)\n",
    "        \n",
    "    with open(output_filename, 'a') as f:\n",
    "        f.write(\"#define {}\\n\".format(ifdef_filename))\n",
    "        f.write(\"#endif /* defined({}) */\\n\".format(ifdef_filename))\n",
    "\n",
    "generate_params_file(\"mnist.h5\", C_SRC_DIR +\"/params.h\", [\"dense_1\", \"dense_2\"])"
   ]
  }
 ],
 "metadata": {
  "kernelspec": {
   "display_name": "Python 3",
   "language": "python",
   "name": "python3"
  },
  "language_info": {
   "codemirror_mode": {
    "name": "ipython",
    "version": 3
   },
   "file_extension": ".py",
   "mimetype": "text/x-python",
   "name": "python",
   "nbconvert_exporter": "python",
   "pygments_lexer": "ipython3",
   "version": "3.7.3"
  },
  "toc": {
   "base_numbering": 1,
   "nav_menu": {},
   "number_sections": true,
   "sideBar": true,
   "skip_h1_title": false,
   "title_cell": "Table of Contents",
   "title_sidebar": "Contents",
   "toc_cell": false,
   "toc_position": {},
   "toc_section_display": true,
   "toc_window_display": false
  }
 },
 "nbformat": 4,
 "nbformat_minor": 2
}
